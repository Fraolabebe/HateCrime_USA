{
 "cells": [
  {
   "cell_type": "code",
   "execution_count": 1,
   "id": "9fd36e2d",
   "metadata": {},
   "outputs": [],
   "source": [
    "import pandas as pd\n",
    "import matplotlib.pyplot as plt"
   ]
  },
  {
   "cell_type": "markdown",
   "id": "737dd889",
   "metadata": {},
   "source": [
    "### Data Processing "
   ]
  },
  {
   "cell_type": "code",
   "execution_count": 2,
   "id": "ac7a5cd0",
   "metadata": {},
   "outputs": [
    {
     "name": "stderr",
     "output_type": "stream",
     "text": [
      "C:\\Users\\abebe\\anaconda3\\lib\\site-packages\\IPython\\core\\interactiveshell.py:3165: DtypeWarning: Columns (19) have mixed types.Specify dtype option on import or set low_memory=False.\n",
      "  has_raised = await self.run_ast_nodes(code_ast.body, cell_name,\n"
     ]
    },
    {
     "data": {
      "text/html": [
       "<div>\n",
       "<style scoped>\n",
       "    .dataframe tbody tr th:only-of-type {\n",
       "        vertical-align: middle;\n",
       "    }\n",
       "\n",
       "    .dataframe tbody tr th {\n",
       "        vertical-align: top;\n",
       "    }\n",
       "\n",
       "    .dataframe thead th {\n",
       "        text-align: right;\n",
       "    }\n",
       "</style>\n",
       "<table border=\"1\" class=\"dataframe\">\n",
       "  <thead>\n",
       "    <tr style=\"text-align: right;\">\n",
       "      <th></th>\n",
       "      <th>INCIDENT_ID</th>\n",
       "      <th>DATA_YEAR</th>\n",
       "      <th>ORI</th>\n",
       "      <th>PUB_AGENCY_NAME</th>\n",
       "      <th>PUB_AGENCY_UNIT</th>\n",
       "      <th>AGENCY_TYPE_NAME</th>\n",
       "      <th>STATE_ABBR</th>\n",
       "      <th>STATE_NAME</th>\n",
       "      <th>DIVISION_NAME</th>\n",
       "      <th>REGION_NAME</th>\n",
       "      <th>...</th>\n",
       "      <th>OFFENDER_RACE</th>\n",
       "      <th>OFFENDER_ETHNICITY</th>\n",
       "      <th>VICTIM_COUNT</th>\n",
       "      <th>OFFENSE_NAME</th>\n",
       "      <th>TOTAL_INDIVIDUAL_VICTIMS</th>\n",
       "      <th>LOCATION_NAME</th>\n",
       "      <th>BIAS_DESC</th>\n",
       "      <th>VICTIM_TYPES</th>\n",
       "      <th>MULTIPLE_OFFENSE</th>\n",
       "      <th>MULTIPLE_BIAS</th>\n",
       "    </tr>\n",
       "  </thead>\n",
       "  <tbody>\n",
       "    <tr>\n",
       "      <th>0</th>\n",
       "      <td>3015</td>\n",
       "      <td>1991</td>\n",
       "      <td>AR0040200</td>\n",
       "      <td>Rogers</td>\n",
       "      <td>NaN</td>\n",
       "      <td>City</td>\n",
       "      <td>AR</td>\n",
       "      <td>Arkansas</td>\n",
       "      <td>West South Central</td>\n",
       "      <td>South</td>\n",
       "      <td>...</td>\n",
       "      <td>White</td>\n",
       "      <td>NaN</td>\n",
       "      <td>1</td>\n",
       "      <td>Intimidation</td>\n",
       "      <td>1.0</td>\n",
       "      <td>Highway/Road/Alley/Street/Sidewalk</td>\n",
       "      <td>Anti-Black or African American</td>\n",
       "      <td>Individual</td>\n",
       "      <td>S</td>\n",
       "      <td>S</td>\n",
       "    </tr>\n",
       "    <tr>\n",
       "      <th>1</th>\n",
       "      <td>3016</td>\n",
       "      <td>1991</td>\n",
       "      <td>AR0290100</td>\n",
       "      <td>Hope</td>\n",
       "      <td>NaN</td>\n",
       "      <td>City</td>\n",
       "      <td>AR</td>\n",
       "      <td>Arkansas</td>\n",
       "      <td>West South Central</td>\n",
       "      <td>South</td>\n",
       "      <td>...</td>\n",
       "      <td>Black or African American</td>\n",
       "      <td>NaN</td>\n",
       "      <td>1</td>\n",
       "      <td>Simple Assault</td>\n",
       "      <td>1.0</td>\n",
       "      <td>Highway/Road/Alley/Street/Sidewalk</td>\n",
       "      <td>Anti-White</td>\n",
       "      <td>Individual</td>\n",
       "      <td>S</td>\n",
       "      <td>S</td>\n",
       "    </tr>\n",
       "    <tr>\n",
       "      <th>2</th>\n",
       "      <td>43</td>\n",
       "      <td>1991</td>\n",
       "      <td>AR0350100</td>\n",
       "      <td>Pine Bluff</td>\n",
       "      <td>NaN</td>\n",
       "      <td>City</td>\n",
       "      <td>AR</td>\n",
       "      <td>Arkansas</td>\n",
       "      <td>West South Central</td>\n",
       "      <td>South</td>\n",
       "      <td>...</td>\n",
       "      <td>Black or African American</td>\n",
       "      <td>NaN</td>\n",
       "      <td>1</td>\n",
       "      <td>Aggravated Assault</td>\n",
       "      <td>1.0</td>\n",
       "      <td>Residence/Home</td>\n",
       "      <td>Anti-Black or African American</td>\n",
       "      <td>Individual</td>\n",
       "      <td>S</td>\n",
       "      <td>S</td>\n",
       "    </tr>\n",
       "    <tr>\n",
       "      <th>3</th>\n",
       "      <td>44</td>\n",
       "      <td>1991</td>\n",
       "      <td>AR0350100</td>\n",
       "      <td>Pine Bluff</td>\n",
       "      <td>NaN</td>\n",
       "      <td>City</td>\n",
       "      <td>AR</td>\n",
       "      <td>Arkansas</td>\n",
       "      <td>West South Central</td>\n",
       "      <td>South</td>\n",
       "      <td>...</td>\n",
       "      <td>Black or African American</td>\n",
       "      <td>NaN</td>\n",
       "      <td>2</td>\n",
       "      <td>Aggravated Assault;Destruction/Damage/Vandalis...</td>\n",
       "      <td>1.0</td>\n",
       "      <td>Highway/Road/Alley/Street/Sidewalk</td>\n",
       "      <td>Anti-White</td>\n",
       "      <td>Individual</td>\n",
       "      <td>M</td>\n",
       "      <td>S</td>\n",
       "    </tr>\n",
       "    <tr>\n",
       "      <th>4</th>\n",
       "      <td>3017</td>\n",
       "      <td>1991</td>\n",
       "      <td>AR0350100</td>\n",
       "      <td>Pine Bluff</td>\n",
       "      <td>NaN</td>\n",
       "      <td>City</td>\n",
       "      <td>AR</td>\n",
       "      <td>Arkansas</td>\n",
       "      <td>West South Central</td>\n",
       "      <td>South</td>\n",
       "      <td>...</td>\n",
       "      <td>Black or African American</td>\n",
       "      <td>NaN</td>\n",
       "      <td>1</td>\n",
       "      <td>Aggravated Assault</td>\n",
       "      <td>1.0</td>\n",
       "      <td>Service/Gas Station</td>\n",
       "      <td>Anti-White</td>\n",
       "      <td>Individual</td>\n",
       "      <td>S</td>\n",
       "      <td>S</td>\n",
       "    </tr>\n",
       "  </tbody>\n",
       "</table>\n",
       "<p>5 rows × 28 columns</p>\n",
       "</div>"
      ],
      "text/plain": [
       "   INCIDENT_ID  DATA_YEAR        ORI PUB_AGENCY_NAME PUB_AGENCY_UNIT  \\\n",
       "0         3015       1991  AR0040200          Rogers             NaN   \n",
       "1         3016       1991  AR0290100            Hope             NaN   \n",
       "2           43       1991  AR0350100      Pine Bluff             NaN   \n",
       "3           44       1991  AR0350100      Pine Bluff             NaN   \n",
       "4         3017       1991  AR0350100      Pine Bluff             NaN   \n",
       "\n",
       "  AGENCY_TYPE_NAME STATE_ABBR STATE_NAME       DIVISION_NAME REGION_NAME  ...  \\\n",
       "0             City         AR   Arkansas  West South Central       South  ...   \n",
       "1             City         AR   Arkansas  West South Central       South  ...   \n",
       "2             City         AR   Arkansas  West South Central       South  ...   \n",
       "3             City         AR   Arkansas  West South Central       South  ...   \n",
       "4             City         AR   Arkansas  West South Central       South  ...   \n",
       "\n",
       "               OFFENDER_RACE OFFENDER_ETHNICITY VICTIM_COUNT  \\\n",
       "0                      White                NaN            1   \n",
       "1  Black or African American                NaN            1   \n",
       "2  Black or African American                NaN            1   \n",
       "3  Black or African American                NaN            2   \n",
       "4  Black or African American                NaN            1   \n",
       "\n",
       "                                        OFFENSE_NAME  \\\n",
       "0                                       Intimidation   \n",
       "1                                     Simple Assault   \n",
       "2                                 Aggravated Assault   \n",
       "3  Aggravated Assault;Destruction/Damage/Vandalis...   \n",
       "4                                 Aggravated Assault   \n",
       "\n",
       "   TOTAL_INDIVIDUAL_VICTIMS                       LOCATION_NAME  \\\n",
       "0                       1.0  Highway/Road/Alley/Street/Sidewalk   \n",
       "1                       1.0  Highway/Road/Alley/Street/Sidewalk   \n",
       "2                       1.0                      Residence/Home   \n",
       "3                       1.0  Highway/Road/Alley/Street/Sidewalk   \n",
       "4                       1.0                 Service/Gas Station   \n",
       "\n",
       "                        BIAS_DESC  VICTIM_TYPES MULTIPLE_OFFENSE MULTIPLE_BIAS  \n",
       "0  Anti-Black or African American    Individual                S             S  \n",
       "1                      Anti-White    Individual                S             S  \n",
       "2  Anti-Black or African American    Individual                S             S  \n",
       "3                      Anti-White    Individual                M             S  \n",
       "4                      Anti-White    Individual                S             S  \n",
       "\n",
       "[5 rows x 28 columns]"
      ]
     },
     "execution_count": 2,
     "metadata": {},
     "output_type": "execute_result"
    }
   ],
   "source": [
    "#Importing dataset\n",
    "\n",
    "data = pd.read_csv(\"Resources/Hate_crime.csv\")\n",
    "data.head()"
   ]
  },
  {
   "cell_type": "code",
   "execution_count": 3,
   "id": "b90c5963",
   "metadata": {},
   "outputs": [
    {
     "name": "stdout",
     "output_type": "stream",
     "text": [
      "(219073, 28)\n",
      "Index(['INCIDENT_ID', 'DATA_YEAR', 'ORI', 'PUB_AGENCY_NAME', 'PUB_AGENCY_UNIT',\n",
      "       'AGENCY_TYPE_NAME', 'STATE_ABBR', 'STATE_NAME', 'DIVISION_NAME',\n",
      "       'REGION_NAME', 'POPULATION_GROUP_CODE', 'POPULATION_GROUP_DESC',\n",
      "       'INCIDENT_DATE', 'ADULT_VICTIM_COUNT', 'JUVENILE_VICTIM_COUNT',\n",
      "       'TOTAL_OFFENDER_COUNT', 'ADULT_OFFENDER_COUNT',\n",
      "       'JUVENILE_OFFENDER_COUNT', 'OFFENDER_RACE', 'OFFENDER_ETHNICITY',\n",
      "       'VICTIM_COUNT', 'OFFENSE_NAME', 'TOTAL_INDIVIDUAL_VICTIMS',\n",
      "       'LOCATION_NAME', 'BIAS_DESC', 'VICTIM_TYPES', 'MULTIPLE_OFFENSE',\n",
      "       'MULTIPLE_BIAS'],\n",
      "      dtype='object')\n"
     ]
    }
   ],
   "source": [
    "#printing columns to see what we are working with\n",
    "print(data.shape)\n",
    "print(data.columns)\n"
   ]
  },
  {
   "cell_type": "code",
   "execution_count": 96,
   "id": "8513b823",
   "metadata": {},
   "outputs": [
    {
     "data": {
      "text/plain": [
       "(219073, 20)"
      ]
     },
     "execution_count": 96,
     "metadata": {},
     "output_type": "execute_result"
    }
   ],
   "source": [
    "#dropping columns with null values over 90%\n",
    "df = data.drop(columns = [\"ORI\", \"STATE_ABBR\",\"ADULT_OFFENDER_COUNT\",\"JUVENILE_OFFENDER_COUNT\", \"PUB_AGENCY_UNIT\", \"JUVENILE_VICTIM_COUNT\", \"OFFENDER_ETHNICITY\", \"ORI\"]) \n",
    "df.shape"
   ]
  },
  {
   "cell_type": "code",
   "execution_count": 97,
   "id": "977a1f9d",
   "metadata": {},
   "outputs": [
    {
     "data": {
      "text/plain": [
       "(215574, 20)"
      ]
     },
     "execution_count": 97,
     "metadata": {},
     "output_type": "execute_result"
    }
   ],
   "source": [
    "# drop any rows with null values\n",
    "cleandata = df.dropna(how='any')\n",
    "cleandata.shape"
   ]
  },
  {
   "cell_type": "code",
   "execution_count": 98,
   "id": "c171ab8b",
   "metadata": {},
   "outputs": [
    {
     "data": {
      "text/plain": [
       "[]"
      ]
     },
     "execution_count": 98,
     "metadata": {},
     "output_type": "execute_result"
    }
   ],
   "source": [
    "#hecking is there any list of columns with null value\n",
    "cleandata.columns[cleandata.isna().any()].tolist()"
   ]
  },
  {
   "cell_type": "code",
   "execution_count": 99,
   "id": "dddd3225",
   "metadata": {},
   "outputs": [
    {
     "data": {
      "text/plain": [
       "INCIDENT_ID         0\n",
       "DATA_YEAR           0\n",
       "PUB_AGENCY_NAME     0\n",
       "AGENCY_TYPE_NAME    0\n",
       "STATE_NAME          0\n",
       "dtype: int64"
      ]
     },
     "execution_count": 99,
     "metadata": {},
     "output_type": "execute_result"
    }
   ],
   "source": [
    "cleandata.isnull().sum(axis = 0).head()"
   ]
  },
  {
   "cell_type": "code",
   "execution_count": 164,
   "id": "21f86cf5",
   "metadata": {},
   "outputs": [
    {
     "data": {
      "text/html": [
       "<div>\n",
       "<style scoped>\n",
       "    .dataframe tbody tr th:only-of-type {\n",
       "        vertical-align: middle;\n",
       "    }\n",
       "\n",
       "    .dataframe tbody tr th {\n",
       "        vertical-align: top;\n",
       "    }\n",
       "\n",
       "    .dataframe thead th {\n",
       "        text-align: right;\n",
       "    }\n",
       "</style>\n",
       "<table border=\"1\" class=\"dataframe\">\n",
       "  <thead>\n",
       "    <tr style=\"text-align: right;\">\n",
       "      <th></th>\n",
       "      <th>ID</th>\n",
       "      <th>Year</th>\n",
       "      <th>Agency_name</th>\n",
       "      <th>Agency_type</th>\n",
       "      <th>State</th>\n",
       "      <th>Devision</th>\n",
       "      <th>Region</th>\n",
       "      <th>Population_code</th>\n",
       "      <th>Population_group</th>\n",
       "      <th>Incident_date</th>\n",
       "      <th>offender_count</th>\n",
       "      <th>OffenderRace</th>\n",
       "      <th>Victim_count</th>\n",
       "      <th>Offense</th>\n",
       "      <th>Victim_no</th>\n",
       "      <th>Location</th>\n",
       "      <th>Bias</th>\n",
       "      <th>Victim_types</th>\n",
       "      <th>Multiple_Offense</th>\n",
       "      <th>Multiple_bias</th>\n",
       "    </tr>\n",
       "  </thead>\n",
       "  <tbody>\n",
       "    <tr>\n",
       "      <th>0</th>\n",
       "      <td>3015</td>\n",
       "      <td>1991</td>\n",
       "      <td>Rogers</td>\n",
       "      <td>City</td>\n",
       "      <td>Arkansas</td>\n",
       "      <td>West South Central</td>\n",
       "      <td>South</td>\n",
       "      <td>5</td>\n",
       "      <td>Cities from 10,000 thru 24,999</td>\n",
       "      <td>31-Aug-91</td>\n",
       "      <td>1</td>\n",
       "      <td>White</td>\n",
       "      <td>1</td>\n",
       "      <td>Intimidation</td>\n",
       "      <td>1.0</td>\n",
       "      <td>Highway/Road/Alley/Street/Sidewalk</td>\n",
       "      <td>Anti-Black or African American</td>\n",
       "      <td>Individual</td>\n",
       "      <td>S</td>\n",
       "      <td>S</td>\n",
       "    </tr>\n",
       "    <tr>\n",
       "      <th>1</th>\n",
       "      <td>3016</td>\n",
       "      <td>1991</td>\n",
       "      <td>Hope</td>\n",
       "      <td>City</td>\n",
       "      <td>Arkansas</td>\n",
       "      <td>West South Central</td>\n",
       "      <td>South</td>\n",
       "      <td>6</td>\n",
       "      <td>Cities from 2,500 thru 9,999</td>\n",
       "      <td>19-Sep-91</td>\n",
       "      <td>1</td>\n",
       "      <td>Black or African American</td>\n",
       "      <td>1</td>\n",
       "      <td>Simple Assault</td>\n",
       "      <td>1.0</td>\n",
       "      <td>Highway/Road/Alley/Street/Sidewalk</td>\n",
       "      <td>Anti-White</td>\n",
       "      <td>Individual</td>\n",
       "      <td>S</td>\n",
       "      <td>S</td>\n",
       "    </tr>\n",
       "    <tr>\n",
       "      <th>2</th>\n",
       "      <td>43</td>\n",
       "      <td>1991</td>\n",
       "      <td>Pine Bluff</td>\n",
       "      <td>City</td>\n",
       "      <td>Arkansas</td>\n",
       "      <td>West South Central</td>\n",
       "      <td>South</td>\n",
       "      <td>3</td>\n",
       "      <td>Cities from 50,000 thru 99,999</td>\n",
       "      <td>4-Jul-91</td>\n",
       "      <td>1</td>\n",
       "      <td>Black or African American</td>\n",
       "      <td>1</td>\n",
       "      <td>Aggravated Assault</td>\n",
       "      <td>1.0</td>\n",
       "      <td>Residence/Home</td>\n",
       "      <td>Anti-Black or African American</td>\n",
       "      <td>Individual</td>\n",
       "      <td>S</td>\n",
       "      <td>S</td>\n",
       "    </tr>\n",
       "  </tbody>\n",
       "</table>\n",
       "</div>"
      ],
      "text/plain": [
       "     ID  Year Agency_name Agency_type     State            Devision Region  \\\n",
       "0  3015  1991      Rogers        City  Arkansas  West South Central  South   \n",
       "1  3016  1991        Hope        City  Arkansas  West South Central  South   \n",
       "2    43  1991  Pine Bluff        City  Arkansas  West South Central  South   \n",
       "\n",
       "  Population_code                Population_group Incident_date  \\\n",
       "0               5  Cities from 10,000 thru 24,999     31-Aug-91   \n",
       "1               6    Cities from 2,500 thru 9,999     19-Sep-91   \n",
       "2               3  Cities from 50,000 thru 99,999      4-Jul-91   \n",
       "\n",
       "   offender_count               OffenderRace  Victim_count  \\\n",
       "0               1                      White             1   \n",
       "1               1  Black or African American             1   \n",
       "2               1  Black or African American             1   \n",
       "\n",
       "              Offense  Victim_no                            Location  \\\n",
       "0        Intimidation        1.0  Highway/Road/Alley/Street/Sidewalk   \n",
       "1      Simple Assault        1.0  Highway/Road/Alley/Street/Sidewalk   \n",
       "2  Aggravated Assault        1.0                      Residence/Home   \n",
       "\n",
       "                             Bias Victim_types Multiple_Offense Multiple_bias  \n",
       "0  Anti-Black or African American   Individual                S             S  \n",
       "1                      Anti-White   Individual                S             S  \n",
       "2  Anti-Black or African American   Individual                S             S  "
      ]
     },
     "execution_count": 164,
     "metadata": {},
     "output_type": "execute_result"
    }
   ],
   "source": [
    "#print all the columns \n",
    "\n",
    "cleandata.head(4)\n",
    "\n",
    "\n",
    "#Rename Columns\n",
    "usa_hatecrime_df = cleandata.rename(columns={\"INCIDENT_ID\": \"ID\",\n",
    "                          \"DATA_YEAR\": \"Year\",\n",
    "                         \"PUB_AGENCY_NAME\": \"Agency_name\",\n",
    "                         \"AGENCY_TYPE_NAME\": \"Agency_type\",\n",
    "                         \"STATE_NAME\": \"State\",\n",
    "                         \"DIVISION_NAME\": \"Devision\",\n",
    "                         \"REGION_NAME\": \"Region\",\n",
    "                         \"POPULATION_GROUP_CODE\": \"Population_code\",\n",
    "                         \"POPULATION_GROUP_DESC\": \"Population_group\",\n",
    "                          \"INCIDENT_DATE\": \"Incident_date\",\n",
    "                         \"TOTAL_OFFENDER_COUNT\": \"offender_count\",\n",
    "                         \"OFFENDER_RACE\": \"OffenderRace\",\n",
    "                         \"VICTIM_COUNT\": \"Victim_count\",\n",
    "                        \"OFFENSE_NAME\": \"Offense\",\n",
    "                          \"TOTAL_INDIVIDUAL_VICTIMS\": \"Victim_no\",\n",
    "                          \n",
    "                         \"LOCATION_NAME\": \"Location\",\n",
    "                         \"BIAS_DESC\": \"Bias\",\n",
    "                         \"VICTIM_TYPES\": \"Victim_types\",\n",
    "                         \"MULTIPLE_OFFENSE\": \"Multiple_Offense\",\n",
    "                         \"MULTIPLE_BIAS\": \"Multiple_bias\"})\n",
    "usa_hatecrime_df.head(3)"
   ]
  },
  {
   "cell_type": "code",
   "execution_count": 175,
   "id": "6c9d965e",
   "metadata": {},
   "outputs": [],
   "source": [
    "#Save clean csv\n",
    "import csv\n",
    "\n",
    "usa_hatecrime_df.to_csv('clean_data.csv', header=False, index=False)\n",
    "    \n",
    "    "
   ]
  },
  {
   "cell_type": "code",
   "execution_count": 176,
   "id": "e1499e67",
   "metadata": {},
   "outputs": [
    {
     "data": {
      "text/plain": [
       "(1074, 14)"
      ]
     },
     "execution_count": 176,
     "metadata": {},
     "output_type": "execute_result"
    }
   ],
   "source": [
    "#Import NYPD data\n",
    "nypd = pd.read_csv(\"Resources/NYPD_Hate_Crimes.csv\")\n",
    "nypd.shape"
   ]
  },
  {
   "cell_type": "code",
   "execution_count": 177,
   "id": "921b1384",
   "metadata": {},
   "outputs": [
    {
     "data": {
      "text/plain": [
       "['Arrest Date', 'Arrest Id']"
      ]
     },
     "execution_count": 177,
     "metadata": {},
     "output_type": "execute_result"
    }
   ],
   "source": [
    "nypd.columns[nypd.isna().any()].tolist()"
   ]
  },
  {
   "cell_type": "code",
   "execution_count": 178,
   "id": "53ad5135",
   "metadata": {},
   "outputs": [],
   "source": [
    "nypd_data = nypd.drop(columns = [\"Full Complaint ID\",\"Arrest Date\", \"Arrest Id\", \"Record Create Date\", \"Complaint Precinct Code\", \"Patrol Borough Name\"])"
   ]
  },
  {
   "cell_type": "code",
   "execution_count": 179,
   "id": "84aba046",
   "metadata": {},
   "outputs": [
    {
     "data": {
      "text/plain": [
       "[]"
      ]
     },
     "execution_count": 179,
     "metadata": {},
     "output_type": "execute_result"
    }
   ],
   "source": [
    "nypd_data.columns[nypd_data.isna().any()].tolist()"
   ]
  },
  {
   "cell_type": "code",
   "execution_count": 180,
   "id": "cfa85c82",
   "metadata": {},
   "outputs": [
    {
     "data": {
      "text/plain": [
       "Complaint Year Number            0\n",
       "Month Number                     0\n",
       "County                           0\n",
       "Law Code Category Description    0\n",
       "Offense Description              0\n",
       "PD Code Description              0\n",
       "Bias Motive Description          0\n",
       "Offense Category                 0\n",
       "dtype: int64"
      ]
     },
     "execution_count": 180,
     "metadata": {},
     "output_type": "execute_result"
    }
   ],
   "source": [
    "nypd_data.isnull().sum(axis = 0)"
   ]
  },
  {
   "cell_type": "code",
   "execution_count": 181,
   "id": "d46bc2b3",
   "metadata": {},
   "outputs": [
    {
     "data": {
      "text/html": [
       "<div>\n",
       "<style scoped>\n",
       "    .dataframe tbody tr th:only-of-type {\n",
       "        vertical-align: middle;\n",
       "    }\n",
       "\n",
       "    .dataframe tbody tr th {\n",
       "        vertical-align: top;\n",
       "    }\n",
       "\n",
       "    .dataframe thead th {\n",
       "        text-align: right;\n",
       "    }\n",
       "</style>\n",
       "<table border=\"1\" class=\"dataframe\">\n",
       "  <thead>\n",
       "    <tr style=\"text-align: right;\">\n",
       "      <th></th>\n",
       "      <th>Complaint Year Number</th>\n",
       "      <th>Month Number</th>\n",
       "      <th>County</th>\n",
       "      <th>Law Code Category Description</th>\n",
       "      <th>Offense Description</th>\n",
       "      <th>PD Code Description</th>\n",
       "      <th>Bias Motive Description</th>\n",
       "      <th>Offense Category</th>\n",
       "    </tr>\n",
       "  </thead>\n",
       "  <tbody>\n",
       "    <tr>\n",
       "      <th>0</th>\n",
       "      <td>2019</td>\n",
       "      <td>2</td>\n",
       "      <td>BRONX</td>\n",
       "      <td>FELONY</td>\n",
       "      <td>FELONY ASSAULT</td>\n",
       "      <td>ASSAULT 2,1,UNCLASSIFIED</td>\n",
       "      <td>ANTI-MALE HOMOSEXUAL (GAY)</td>\n",
       "      <td>Sexual Orientation</td>\n",
       "    </tr>\n",
       "    <tr>\n",
       "      <th>1</th>\n",
       "      <td>2019</td>\n",
       "      <td>3</td>\n",
       "      <td>BRONX</td>\n",
       "      <td>MISDEMEANOR</td>\n",
       "      <td>ASSAULT 3 &amp; RELATED OFFENSES</td>\n",
       "      <td>ASSAULT 3</td>\n",
       "      <td>ANTI-WHITE</td>\n",
       "      <td>Race/Color</td>\n",
       "    </tr>\n",
       "  </tbody>\n",
       "</table>\n",
       "</div>"
      ],
      "text/plain": [
       "   Complaint Year Number  Month Number County Law Code Category Description  \\\n",
       "0                   2019             2  BRONX                        FELONY   \n",
       "1                   2019             3  BRONX                   MISDEMEANOR   \n",
       "\n",
       "            Offense Description       PD Code Description  \\\n",
       "0                FELONY ASSAULT  ASSAULT 2,1,UNCLASSIFIED   \n",
       "1  ASSAULT 3 & RELATED OFFENSES                 ASSAULT 3   \n",
       "\n",
       "      Bias Motive Description    Offense Category  \n",
       "0  ANTI-MALE HOMOSEXUAL (GAY)  Sexual Orientation  \n",
       "1                  ANTI-WHITE          Race/Color  "
      ]
     },
     "execution_count": 181,
     "metadata": {},
     "output_type": "execute_result"
    }
   ],
   "source": [
    "nypd_data.head(2)"
   ]
  },
  {
   "cell_type": "code",
   "execution_count": 182,
   "id": "9fada57c",
   "metadata": {},
   "outputs": [
    {
     "data": {
      "text/plain": [
       "Index(['Complaint Year Number', 'Month Number', 'County',\n",
       "       'Law Code Category Description', 'Offense Description',\n",
       "       'PD Code Description', 'Bias Motive Description', 'Offense Category'],\n",
       "      dtype='object')"
      ]
     },
     "execution_count": 182,
     "metadata": {},
     "output_type": "execute_result"
    }
   ],
   "source": [
    "nypd_data.columns"
   ]
  },
  {
   "cell_type": "code",
   "execution_count": 183,
   "id": "d83fd78f",
   "metadata": {},
   "outputs": [
    {
     "data": {
      "text/html": [
       "<div>\n",
       "<style scoped>\n",
       "    .dataframe tbody tr th:only-of-type {\n",
       "        vertical-align: middle;\n",
       "    }\n",
       "\n",
       "    .dataframe tbody tr th {\n",
       "        vertical-align: top;\n",
       "    }\n",
       "\n",
       "    .dataframe thead th {\n",
       "        text-align: right;\n",
       "    }\n",
       "</style>\n",
       "<table border=\"1\" class=\"dataframe\">\n",
       "  <thead>\n",
       "    <tr style=\"text-align: right;\">\n",
       "      <th></th>\n",
       "      <th>Year</th>\n",
       "      <th>Month</th>\n",
       "      <th>County</th>\n",
       "      <th>Law_code_category</th>\n",
       "      <th>Offense_description</th>\n",
       "      <th>PD_code_cescription</th>\n",
       "      <th>Bias</th>\n",
       "      <th>Offense_category</th>\n",
       "    </tr>\n",
       "  </thead>\n",
       "  <tbody>\n",
       "    <tr>\n",
       "      <th>0</th>\n",
       "      <td>2019</td>\n",
       "      <td>2</td>\n",
       "      <td>BRONX</td>\n",
       "      <td>FELONY</td>\n",
       "      <td>FELONY ASSAULT</td>\n",
       "      <td>ASSAULT 2,1,UNCLASSIFIED</td>\n",
       "      <td>ANTI-MALE HOMOSEXUAL (GAY)</td>\n",
       "      <td>Sexual Orientation</td>\n",
       "    </tr>\n",
       "    <tr>\n",
       "      <th>1</th>\n",
       "      <td>2019</td>\n",
       "      <td>3</td>\n",
       "      <td>BRONX</td>\n",
       "      <td>MISDEMEANOR</td>\n",
       "      <td>ASSAULT 3 &amp; RELATED OFFENSES</td>\n",
       "      <td>ASSAULT 3</td>\n",
       "      <td>ANTI-WHITE</td>\n",
       "      <td>Race/Color</td>\n",
       "    </tr>\n",
       "    <tr>\n",
       "      <th>2</th>\n",
       "      <td>2019</td>\n",
       "      <td>3</td>\n",
       "      <td>BRONX</td>\n",
       "      <td>MISDEMEANOR</td>\n",
       "      <td>ASSAULT 3 &amp; RELATED OFFENSES</td>\n",
       "      <td>ASSAULT 3</td>\n",
       "      <td>ANTI-WHITE</td>\n",
       "      <td>Race/Color</td>\n",
       "    </tr>\n",
       "  </tbody>\n",
       "</table>\n",
       "</div>"
      ],
      "text/plain": [
       "   Year  Month County Law_code_category           Offense_description  \\\n",
       "0  2019      2  BRONX            FELONY                FELONY ASSAULT   \n",
       "1  2019      3  BRONX       MISDEMEANOR  ASSAULT 3 & RELATED OFFENSES   \n",
       "2  2019      3  BRONX       MISDEMEANOR  ASSAULT 3 & RELATED OFFENSES   \n",
       "\n",
       "        PD_code_cescription                        Bias    Offense_category  \n",
       "0  ASSAULT 2,1,UNCLASSIFIED  ANTI-MALE HOMOSEXUAL (GAY)  Sexual Orientation  \n",
       "1                 ASSAULT 3                  ANTI-WHITE          Race/Color  \n",
       "2                 ASSAULT 3                  ANTI-WHITE          Race/Color  "
      ]
     },
     "execution_count": 183,
     "metadata": {},
     "output_type": "execute_result"
    }
   ],
   "source": [
    "nypd_hatecrime_data = nypd_data.rename(columns={\"Complaint Year Number\": \"Year\",\n",
    "                         \"Month Number\": \"Month\",\n",
    "                         \"Law Code Category Description\": \"Law_code_category\",\n",
    "                         \"Offense Description\": \"Offense_description\",\n",
    "                         \"PD Code Description\": \"PD_code_cescription\",\n",
    "                          \"Bias Motive Description\": \"Bias\",\n",
    "                          \"Offense Category\" : \"Offense_category\"\n",
    "                         })\n",
    "\n",
    "nypd_hatecrime_data.head(3)"
   ]
  },
  {
   "cell_type": "code",
   "execution_count": 185,
   "id": "ed0f9ef8",
   "metadata": {},
   "outputs": [],
   "source": [
    "#Save cleaned nypd data as csv file\n",
    "nypd_hatecrime_data.to_csv('clean_nypd_data.csv', header=False, index=False)"
   ]
  },
  {
   "cell_type": "markdown",
   "id": "bbb2000d",
   "metadata": {},
   "source": [
    "### Data Analysis on Hate Crime in USA"
   ]
  },
  {
   "cell_type": "code",
   "execution_count": 186,
   "id": "35f048f2",
   "metadata": {},
   "outputs": [
    {
     "data": {
      "text/html": [
       "<div>\n",
       "<style scoped>\n",
       "    .dataframe tbody tr th:only-of-type {\n",
       "        vertical-align: middle;\n",
       "    }\n",
       "\n",
       "    .dataframe tbody tr th {\n",
       "        vertical-align: top;\n",
       "    }\n",
       "\n",
       "    .dataframe thead th {\n",
       "        text-align: right;\n",
       "    }\n",
       "</style>\n",
       "<table border=\"1\" class=\"dataframe\">\n",
       "  <thead>\n",
       "    <tr style=\"text-align: right;\">\n",
       "      <th></th>\n",
       "      <th>ID</th>\n",
       "      <th>Year</th>\n",
       "      <th>Agency_name</th>\n",
       "      <th>Agency_type</th>\n",
       "      <th>State</th>\n",
       "      <th>Devision</th>\n",
       "      <th>Region</th>\n",
       "      <th>Population_code</th>\n",
       "      <th>Population_group</th>\n",
       "      <th>Incident_date</th>\n",
       "      <th>offender_count</th>\n",
       "      <th>OffenderRace</th>\n",
       "      <th>Victim_count</th>\n",
       "      <th>Offense</th>\n",
       "      <th>Victim_no</th>\n",
       "      <th>Location</th>\n",
       "      <th>Bias</th>\n",
       "      <th>Victim_types</th>\n",
       "      <th>Multiple_Offense</th>\n",
       "      <th>Multiple_bias</th>\n",
       "    </tr>\n",
       "  </thead>\n",
       "  <tbody>\n",
       "    <tr>\n",
       "      <th>0</th>\n",
       "      <td>3015</td>\n",
       "      <td>1991</td>\n",
       "      <td>Rogers</td>\n",
       "      <td>City</td>\n",
       "      <td>Arkansas</td>\n",
       "      <td>West South Central</td>\n",
       "      <td>South</td>\n",
       "      <td>5</td>\n",
       "      <td>Cities from 10,000 thru 24,999</td>\n",
       "      <td>31-Aug-91</td>\n",
       "      <td>1</td>\n",
       "      <td>White</td>\n",
       "      <td>1</td>\n",
       "      <td>Intimidation</td>\n",
       "      <td>1.0</td>\n",
       "      <td>Highway/Road/Alley/Street/Sidewalk</td>\n",
       "      <td>Anti-Black or African American</td>\n",
       "      <td>Individual</td>\n",
       "      <td>S</td>\n",
       "      <td>S</td>\n",
       "    </tr>\n",
       "    <tr>\n",
       "      <th>1</th>\n",
       "      <td>3016</td>\n",
       "      <td>1991</td>\n",
       "      <td>Hope</td>\n",
       "      <td>City</td>\n",
       "      <td>Arkansas</td>\n",
       "      <td>West South Central</td>\n",
       "      <td>South</td>\n",
       "      <td>6</td>\n",
       "      <td>Cities from 2,500 thru 9,999</td>\n",
       "      <td>19-Sep-91</td>\n",
       "      <td>1</td>\n",
       "      <td>Black or African American</td>\n",
       "      <td>1</td>\n",
       "      <td>Simple Assault</td>\n",
       "      <td>1.0</td>\n",
       "      <td>Highway/Road/Alley/Street/Sidewalk</td>\n",
       "      <td>Anti-White</td>\n",
       "      <td>Individual</td>\n",
       "      <td>S</td>\n",
       "      <td>S</td>\n",
       "    </tr>\n",
       "    <tr>\n",
       "      <th>2</th>\n",
       "      <td>43</td>\n",
       "      <td>1991</td>\n",
       "      <td>Pine Bluff</td>\n",
       "      <td>City</td>\n",
       "      <td>Arkansas</td>\n",
       "      <td>West South Central</td>\n",
       "      <td>South</td>\n",
       "      <td>3</td>\n",
       "      <td>Cities from 50,000 thru 99,999</td>\n",
       "      <td>4-Jul-91</td>\n",
       "      <td>1</td>\n",
       "      <td>Black or African American</td>\n",
       "      <td>1</td>\n",
       "      <td>Aggravated Assault</td>\n",
       "      <td>1.0</td>\n",
       "      <td>Residence/Home</td>\n",
       "      <td>Anti-Black or African American</td>\n",
       "      <td>Individual</td>\n",
       "      <td>S</td>\n",
       "      <td>S</td>\n",
       "    </tr>\n",
       "  </tbody>\n",
       "</table>\n",
       "</div>"
      ],
      "text/plain": [
       "     ID  Year Agency_name Agency_type     State            Devision Region  \\\n",
       "0  3015  1991      Rogers        City  Arkansas  West South Central  South   \n",
       "1  3016  1991        Hope        City  Arkansas  West South Central  South   \n",
       "2    43  1991  Pine Bluff        City  Arkansas  West South Central  South   \n",
       "\n",
       "  Population_code                Population_group Incident_date  \\\n",
       "0               5  Cities from 10,000 thru 24,999     31-Aug-91   \n",
       "1               6    Cities from 2,500 thru 9,999     19-Sep-91   \n",
       "2               3  Cities from 50,000 thru 99,999      4-Jul-91   \n",
       "\n",
       "   offender_count               OffenderRace  Victim_count  \\\n",
       "0               1                      White             1   \n",
       "1               1  Black or African American             1   \n",
       "2               1  Black or African American             1   \n",
       "\n",
       "              Offense  Victim_no                            Location  \\\n",
       "0        Intimidation        1.0  Highway/Road/Alley/Street/Sidewalk   \n",
       "1      Simple Assault        1.0  Highway/Road/Alley/Street/Sidewalk   \n",
       "2  Aggravated Assault        1.0                      Residence/Home   \n",
       "\n",
       "                             Bias Victim_types Multiple_Offense Multiple_bias  \n",
       "0  Anti-Black or African American   Individual                S             S  \n",
       "1                      Anti-White   Individual                S             S  \n",
       "2  Anti-Black or African American   Individual                S             S  "
      ]
     },
     "execution_count": 186,
     "metadata": {},
     "output_type": "execute_result"
    }
   ],
   "source": [
    "usa_hatecrime_df.head(3)"
   ]
  },
  {
   "cell_type": "code",
   "execution_count": null,
   "id": "8584b37c",
   "metadata": {},
   "outputs": [],
   "source": [
    "#how many"
   ]
  }
 ],
 "metadata": {
  "kernelspec": {
   "display_name": "Python 3",
   "language": "python",
   "name": "python3"
  },
  "language_info": {
   "codemirror_mode": {
    "name": "ipython",
    "version": 3
   },
   "file_extension": ".py",
   "mimetype": "text/x-python",
   "name": "python",
   "nbconvert_exporter": "python",
   "pygments_lexer": "ipython3",
   "version": "3.8.8"
  }
 },
 "nbformat": 4,
 "nbformat_minor": 5
}
